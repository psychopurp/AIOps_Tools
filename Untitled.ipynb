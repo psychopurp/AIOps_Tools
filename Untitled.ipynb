{
 "cells": [
  {
   "cell_type": "code",
   "execution_count": 1,
   "metadata": {
    "scrolled": true
   },
   "outputs": [
    {
     "name": "stdout",
     "output_type": "stream",
     "text": [
      "['/root/.virtualenv/tensorflow/lib/python36.zip', '/root/.virtualenv/tensorflow/lib/python3.6', '/root/.virtualenv/tensorflow/lib/python3.6/lib-dynload', '/usr/lib/python3.6', '', '/root/.virtualenv/tensorflow/lib/python3.6/site-packages', '/root/.virtualenv/tensorflow/lib/python3.6/site-packages/dtw-1.4.0-py3.6.egg', '/root/.virtualenv/tensorflow/lib/python3.6/site-packages/statsmodels-0.11.0-py3.6-linux-x86_64.egg', '/root/.virtualenv/tensorflow/lib/python3.6/site-packages/sklearn-0.0-py3.6.egg', '/root/.virtualenv/tensorflow/lib/python3.6/site-packages/pandas-1.0.1-py3.6-linux-x86_64.egg', '/root/.virtualenv/tensorflow/lib/python3.6/site-packages/PyBrain-0.3-py3.6.egg', '/root/.virtualenv/tensorflow/lib/python3.6/site-packages/patsy-0.5.1-py3.6.egg', '/root/.virtualenv/tensorflow/lib/python3.6/site-packages/scikit_learn-0.22.1-py3.6-linux-x86_64.egg', '/root/.virtualenv/tensorflow/lib/python3.6/site-packages/IPython/extensions', '/root/.ipython']\n"
     ]
    }
   ],
   "source": [
    "import sys\n",
    "print(sys.path)"
   ]
  },
  {
   "cell_type": "code",
   "execution_count": null,
   "metadata": {},
   "outputs": [],
   "source": []
  }
 ],
 "metadata": {
  "kernelspec": {
   "display_name": "Python 3",
   "language": "python",
   "name": "python3"
  },
  "language_info": {
   "codemirror_mode": {
    "name": "ipython",
    "version": 3
   },
   "file_extension": ".py",
   "mimetype": "text/x-python",
   "name": "python",
   "nbconvert_exporter": "python",
   "pygments_lexer": "ipython3",
   "version": "3.6.8"
  }
 },
 "nbformat": 4,
 "nbformat_minor": 4
}
